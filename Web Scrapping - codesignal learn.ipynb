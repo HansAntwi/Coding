{
 "cells": [
  {
   "cell_type": "code",
   "execution_count": null,
   "id": "fbcf8850",
   "metadata": {},
   "outputs": [],
   "source": [
    "import requests"
   ]
  },
  {
   "cell_type": "code",
   "execution_count": null,
   "id": "5904f6d6",
   "metadata": {},
   "outputs": [],
   "source": [
    "url = 'http://books.toscrap1e.com'\n",
    "response = requests.get(url, timeout = 4)\n",
    "print(response.status_code)\n",
    "\n",
    "if response.ok:\n",
    "    print(\"Successfully fetched the page!\")\n",
    "    print(response.text[:500])\n",
    "else:\n",
    "    print(\"Failed to retrieve the page.\")"
   ]
  },
  {
   "cell_type": "code",
   "execution_count": 14,
   "id": "550bd0cd",
   "metadata": {},
   "outputs": [
    {
     "name": "stdout",
     "output_type": "stream",
     "text": [
      "timeout\n"
     ]
    }
   ],
   "source": [
    "import requests\n",
    "\n",
    "try:\n",
    "    # TODO: Send request to http://www.google.com:81/ with timeout of 5 seconds  \n",
    "    url = 'http://www.google.com:81/'\n",
    "    request = requests.get(url, timeout = 5)\n",
    "    # TODO: Check if the request was successful (status_code 200) and print a message\n",
    "    if request.status_code == 200:\n",
    "        print('Page is up')\n",
    "    # TODO: Handle the case where the status code is not 200 with an appropriate message\n",
    "    elif request.status_code == 404:\n",
    "        print('page not found')\n",
    "    else:\n",
    "        print('something went wrong')\n",
    "except requests.exceptions.Timeout:\n",
    "    # TODO: Handle the possibility of a timeout with an appropriate message\n",
    "    print('timeout')"
   ]
  },
  {
   "cell_type": "code",
   "execution_count": null,
   "id": "f84d2a50",
   "metadata": {},
   "outputs": [],
   "source": [
    "import requests\n",
    "url  = 'https://www.bog.gov.gh/economic-data/exchange-rate/'\n",
    "# url = 'http://quotes.toscrape.com'\n",
    "request = requests.get(url, timeout = 5 )\n",
    "\n",
    "if request.ok:\n",
    "    print('page is up')\n",
    "    print('Page Headers:')\n",
    "for header, value in request.headers.items():\n",
    "    print(f'{header}: {value}')"
   ]
  },
  {
   "cell_type": "code",
   "execution_count": null,
   "id": "2a56e64d",
   "metadata": {},
   "outputs": [
    {
     "name": "stdout",
     "output_type": "stream",
     "text": [
      "text/html; charset=utf-8\n",
      "Content-Length: None\n"
     ]
    }
   ],
   "source": [
    "import requests\n",
    "\n",
    "# Making an HTTP GET request to fetch quotes\n",
    "response = requests.get('http://quotes.toscrape.com')\n",
    "\n",
    "# Only execute the following if the request was successful\n",
    "if response.ok:\n",
    "    # Print the 'Content-Type' header value\n",
    "    print(response.headers.get('Content-Type', None))\n",
    "    # TODO: Update the code to fetch the Content-Length header\n",
    "    print('Content-Length:', response.headers.get('Content-Length', None))"
   ]
  },
  {
   "cell_type": "code",
   "execution_count": null,
   "id": "7324d96e",
   "metadata": {},
   "outputs": [],
   "source": []
  },
  {
   "cell_type": "code",
   "execution_count": null,
   "id": "e44b6568",
   "metadata": {},
   "outputs": [],
   "source": []
  },
  {
   "cell_type": "code",
   "execution_count": null,
   "id": "e15046e4",
   "metadata": {},
   "outputs": [],
   "source": []
  }
 ],
 "metadata": {
  "kernelspec": {
   "display_name": "base",
   "language": "python",
   "name": "python3"
  },
  "language_info": {
   "codemirror_mode": {
    "name": "ipython",
    "version": 3
   },
   "file_extension": ".py",
   "mimetype": "text/x-python",
   "name": "python",
   "nbconvert_exporter": "python",
   "pygments_lexer": "ipython3",
   "version": "3.11.7"
  }
 },
 "nbformat": 4,
 "nbformat_minor": 5
}
