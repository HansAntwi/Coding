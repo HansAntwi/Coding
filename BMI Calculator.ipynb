{
 "cells": [
  {
   "cell_type": "markdown",
   "id": "1162a8c6",
   "metadata": {},
   "source": [
    "#### BMI CALCULATOR\n",
    "##### BMI = (weight * 703) / (height in inches **2)\n",
    "##### accept these inputs from the user -- weight, height\n",
    "##### multiply weight by 703\n",
    "##### divide answer by height **2"
   ]
  },
  {
   "cell_type": "code",
   "execution_count": 15,
   "id": "ed5cccac",
   "metadata": {},
   "outputs": [
    {
     "name": "stdout",
     "output_type": "stream",
     "text": [
      "Your BMI is 48.22 and you are Morbidly Obese. Your Health risk is Extremely high\n"
     ]
    }
   ],
   "source": [
    "def BMI_Calculator():\n",
    "    try:\n",
    "        weight = float(input('Enter your weight: '))\n",
    "        height = float(input('Enter your height: '))\n",
    "        const = 703\n",
    "        bmi = round(((weight * const)/(height**2)),2) \n",
    "        return bmi   \n",
    "    except ValueError as err:\n",
    "        print('Enter a valid value')\n",
    "        return None\n",
    "    \n",
    "def bmi_Status(bmi):\n",
    "    if bmi is None:\n",
    "        print('Cannot calculate BMI, enter a valid number')\n",
    "        return\n",
    "    if bmi < 18.5:\n",
    "        print(f'Your BMI is {bmi} and you are Underweight. Your Health risk is minimal')\n",
    "    elif bmi <25:\n",
    "        print(f'Your BMI is {bmi} and you are Normal weight. Your Health risk is minimal')\n",
    "    elif bmi < 30:\n",
    "        print(f'Your BMI is {bmi} and you are Overweight. Your Health risk has increased')\n",
    "    elif bmi < 35:\n",
    "        print(f'Your BMI is {bmi} and you are Obese. Your Health risk is Very high')\n",
    "    elif bmi < 40:\n",
    "        print(f'Your BMI is {bmi} and you are Severly Obese. Your Health risk is Very high')\n",
    "    else: #bmi >= 40:\n",
    "        print(f'Your BMI is {bmi} and you are Morbidly Obese. Your Health risk is Extremely high')\n",
    "    \n",
    "bmi_value = BMI_Calculator()   \n",
    "bmi_Status(bmi_value)"
   ]
  }
 ],
 "metadata": {
  "kernelspec": {
   "display_name": "base",
   "language": "python",
   "name": "python3"
  },
  "language_info": {
   "codemirror_mode": {
    "name": "ipython",
    "version": 3
   },
   "file_extension": ".py",
   "mimetype": "text/x-python",
   "name": "python",
   "nbconvert_exporter": "python",
   "pygments_lexer": "ipython3",
   "version": "3.11.7"
  }
 },
 "nbformat": 4,
 "nbformat_minor": 5
}
