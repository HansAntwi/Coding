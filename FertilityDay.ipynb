{
 "cells": [
  {
   "cell_type": "code",
   "execution_count": 36,
   "id": "c261c852",
   "metadata": {},
   "outputs": [
    {
     "name": "stdout",
     "output_type": "stream",
     "text": [
      "⚠️⚠️ Your menstrual🩸cycle is 8 days, please check with a doctor.\n"
     ]
    }
   ],
   "source": [
    "from datetime import datetime, timedelta\n",
    "def Fertility():\n",
    "    while True:\n",
    "        # ensure the user inputs valid dates \n",
    "        try:\n",
    "            #get inputs from user\n",
    "            last_period_date_input = input('Enter your LAST PERIOD date: \"dd/mm/yyyy\": ')\n",
    "            last_two_period_date_input = input('Enter your LAST TWO MONTH\\'s period date: \"dd/mm/yyyy\": ')\n",
    "            \n",
    "            #convert input to date\n",
    "            last_period_date = datetime.strptime(last_period_date_input,'%d/%m/%Y')\n",
    "            last_two_period_date = datetime.strptime(last_two_period_date_input, \"%d/%m/%Y\")\n",
    "        except ValueError: #print error message if input is not in the correct format\n",
    "            print(\"Error: Invalid date format. Please use 'dd/mm/yyyy'\")\n",
    "            continue\n",
    "        \n",
    "        #cycle length\n",
    "        diff_in_date = (last_period_date - last_two_period_date).days\n",
    "        \n",
    "        if diff_in_date <= 0:\n",
    "            print(\"⚠️⚠️ Error: The last period date must be after the previous period date.\")\n",
    "            return\n",
    "        \n",
    "        if diff_in_date < 15:\n",
    "            print(f'⚠️⚠️ Your menstrual🩸cycle is {diff_in_date} days, please check with a doctor.')\n",
    "            return\n",
    "        \n",
    "        if diff_in_date < 20:\n",
    "            print(f'⚠️⚠️ Your menstrual🩸cycle is {diff_in_date} days, please check with a doctor.')\n",
    "            break\n",
    "        \n",
    "        #if cycle is more than 20 days, break the loop\n",
    "        break\n",
    "                   \n",
    "    print(f'Your menstrual🩸cycle is {diff_in_date} days')\n",
    "        \n",
    "        \n",
    "    # fertile day calculation  \n",
    "    fertile_day = last_period_date + timedelta(days=(diff_in_date-14))\n",
    "    print(f'Your estimated fertile🤰👩‍🍼 date is {fertile_day.strftime(\"%d/%m/%Y\")}')\n",
    "    \n",
    "        \n",
    "    # next period calculation\n",
    "    next_period_date = last_period_date + timedelta(days=diff_in_date)\n",
    "    print(f'Your next period🩸is estimate to be in the {next_period_date.strftime(\"%d/%m/%Y\")}')\n",
    "\n",
    "        \n",
    "Fertility()#use inputs 2/4/2025 and 7/3/2025"
   ]
  }
 ],
 "metadata": {
  "kernelspec": {
   "display_name": "base",
   "language": "python",
   "name": "python3"
  },
  "language_info": {
   "codemirror_mode": {
    "name": "ipython",
    "version": 3
   },
   "file_extension": ".py",
   "mimetype": "text/x-python",
   "name": "python",
   "nbconvert_exporter": "python",
   "pygments_lexer": "ipython3",
   "version": "3.11.7"
  }
 },
 "nbformat": 4,
 "nbformat_minor": 5
}
