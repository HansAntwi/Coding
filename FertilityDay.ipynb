{
 "cells": [
  {
   "cell_type": "code",
   "execution_count": null,
   "id": "c261c852",
   "metadata": {},
   "outputs": [
    {
     "name": "stdout",
     "output_type": "stream",
     "text": [
      "Your menstrual cycle is 34 days\n",
      "Your estimated fertile🤰👩‍🍼 date is 09/07/2025\n",
      "Your next period🩸is estimate to be in the 23/07/2025\n"
     ]
    }
   ],
   "source": [
    "from datetime import datetime, timedelta\n",
    "def Fertility():\n",
    "    #get inputs from user\n",
    "    last_period_date_input = input('Enter the last period date: \"dd/mm/yyyy\": ')\n",
    "    last_two_period_date_input = input('Enter the last two month\\'s period date: \"dd/mm/yyyy\": ')\n",
    "    \n",
    "    #convert input to date\n",
    "    last_period_date = datetime.strptime(last_period_date_input,'%d/%m/%Y')\n",
    "    last_two_period_date = datetime.strptime(last_two_period_date_input, \"%d/%m/%Y\")\n",
    "    \n",
    "    #cycle length\n",
    "    diff_in_date = (last_period_date - last_two_period_date).days\n",
    "    print(f'Your menstrual🩸cycle is {diff_in_date} days')\n",
    "    \n",
    "    fertile_day = last_period_date + timedelta(days=(diff_in_date-14))\n",
    "    print(f'Your estimated fertile🤰👩‍🍼 date is {fertile_day.strftime(\"%d/%m/%Y\")}')\n",
    "    \n",
    "    next_period_date = last_period_date + timedelta(days=diff_in_date)\n",
    "    print(f'Your next period🩸is estimate to be in the {next_period_date.strftime(\"%d/%m/%Y\")}')\n",
    "\n",
    "Fertility()#use inputs 2/4/2025 and 7/3/2025"
   ]
  }
 ],
 "metadata": {
  "kernelspec": {
   "display_name": "base",
   "language": "python",
   "name": "python3"
  },
  "language_info": {
   "codemirror_mode": {
    "name": "ipython",
    "version": 3
   },
   "file_extension": ".py",
   "mimetype": "text/x-python",
   "name": "python",
   "nbconvert_exporter": "python",
   "pygments_lexer": "ipython3",
   "version": "3.11.7"
  }
 },
 "nbformat": 4,
 "nbformat_minor": 5
}
