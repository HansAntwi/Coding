{
 "cells": [
  {
   "cell_type": "code",
   "execution_count": 1,
   "id": "14aa5bfa",
   "metadata": {},
   "outputs": [],
   "source": [
    "import requests\n",
    "from bs4 import BeautifulSoup\n",
    "import pandas as pd\n",
    "import json"
   ]
  },
  {
   "cell_type": "code",
   "execution_count": 2,
   "id": "15c633b2",
   "metadata": {},
   "outputs": [],
   "source": [
    "url = 'https://www.amazon.com/s?k=graphics+tablet+for+pc&crid=1PAZ72OEYWYPR&sprefix=graphics+tabl%2Caps%2C1927&ref=nb_sb_ss_p13n-pd-dpltr-ranker_4_13'\n",
    "\n",
    "headers = {\n",
    "    'Accept': '*/*',\n",
    "    'Accept-Encoding' :'gzip, deflate, br, zstd',\n",
    "    'Accept-Language': 'en-US,en;q=0.9,it-IT;q=0.8,it;q=0.7',\n",
    "    'User-Agent': 'Mozilla/5.0 (Windows NT 10.0; Win64; x64) AppleWebKit/537.36 (KHTML, like Gecko) Chrome/139.0.0.0 Safari/537.36',\n",
    "    'Content-Type':'text/plain;charset=UTF-8'\n",
    "}"
   ]
  },
  {
   "cell_type": "code",
   "execution_count": 3,
   "id": "017eab5f",
   "metadata": {},
   "outputs": [],
   "source": [
    "response = requests.get(url, headers=headers)\n",
    "soup = BeautifulSoup(response.content, 'html.parser')\n"
   ]
  },
  {
   "cell_type": "code",
   "execution_count": null,
   "id": "b6d196bb",
   "metadata": {},
   "outputs": [
    {
     "name": "stdout",
     "output_type": "stream",
     "text": [
      "['Wacom Intuos Small Bluetooth Graphics Drawing Tablet, Portable for Teachers, Students and Creators, 4 Customizable ExpressKeys, Compatible with Chromebook Mac OS Android and Windows - Pistachio', 'HUION Inspiroy 2 Medium Drawing Tablet with Scroll Wheel 8 Customized Keys Battery-Free Stylus 60° Tilt Support for Digital Art, Design, Sketch, 9x5inch Graphics Tablet, Black', 'HUION Inspiroy H640P Drawing Tablet, 6x4 inch Digital Art with Battery-Free Stylus, 8192 Pen Pressure, 6 Hot Keys, Graphics Tablet for Drawing, Writing, Design, Teaching, Work with Mac, PC & Mobile', 'Wacom Intuos Small Bluetooth Graphics Drawing Tablet, Portable for Teachers, Students and Creators, 4 Customizable ExpressKeys, Compatible with Chromebook Mac OS Android and Windows - Pistachio', 'Graphics Drawing Tablet, UGEE M708 10 x 6 inch Large Drawing Tablet with 8 Hot Keys, Passive Stylus of 8192 Levels Pressure, UGEE M708 Graphics Tablet for Paint, Design, Art Creation Sketch Black', 'HUION Kamvas 22 Plus QLED Drawing Tablet with Full-Laminated Screen USB-C Connection 140% sRGB Tilt, 21.5 inch Graphics Art Tablet for Artist & Designer, Work with Mac, Windows, Linux & Android Black', 'HUION Inspiroy H1060P Graphics Drawing Tablet with 8192 Pressure Sensitivity Battery-Free Stylus and 12 Customized Hot Keys, 10 x 6.25 inches Digital Art Tablet for Mac, Windows PC and Android', 'VEIKK VK1200 V2 Drawing Tablet with Screen,11.6-inch Full-Laminated Graphic Drawing Monitor,2 Battery-Free Pens with Tilt Function,6 Customizable Keys,Anti-Glare Glass(Must be Connected to PC to Work)', 'GAOMON PD1161 Drawing Tablet with Screen, Digital Art Tablet with Battery-Free Stylus, Tilt, 8 Shortcut Keys for Paint, Design, Illustration, Editing, 11.6-inch Graphics Tablet for Mac, Windows PC', 'Ugee Drawing Tablet 6.5x4 Inches Computer Graphics Tablets with 10 Hot Keys，Digital Tablet Battery-Free Stylus 8192 Pressure Sensitivity 60°Tilt Function Drawing Pad for PC,Mac,Windows,Android-Purple', 'GAOMON S620 Drawing Tablet 6.5 x 4 Inch Graphics Tablet with 8192 Passive Pen 4 Customizable ExpressKeys for Digital Art, Painting, OSU Playing, Compatible with Windows PC, Mac', 'XOPPOX Graphics Drawing Tablet 10 x 6 Inch Large Active Area with 8192 Levels Battery-Free Pen and 12 Hot Keys, Compatible with PC/Mac/Android OS for Painting, Design & Online Teaching Black', 'HUION Kamvas 22 Plus QLED Drawing Tablet with Full-Laminated Screen USB-C Connection 140% sRGB Tilt, 21.5 inch Graphics Art Tablet for Artist & Designer, Work with Mac, Windows, Linux & Android Black', 'HUION Drawing Tablet HS610 Graphic Tablet with Battery-Free Stylus 8192 Pen Pressure Tilt Function, 10x6.25 Inches Digital Art for Animation & Design, Compatible with Windows/Mac/Android', 'Graphic Drawing Tablet, ienRon 10x6.25 Inch,Digital Graphics Tablets for PC and Computer/Pad- 8192 Pressure Battery-Free Pen, 12 Hot Keys, Compatible Windows/Android, Includes Stand,Good Gifts,Black', 'VEIKK A30 V2 Drawing Tablet 10x6 Inch Graphics Tablet with 8192 Pressure Sensitivity Battery-Free Pen and Touch Pad, 4 Hot Keys Drawing Pad for Computer, Supports Mac Windows Android Linux', 'HUION Kamvas 13 (Gen 3) Drawing Tablet with Screen,13.3\" Full-Laminated Art Tablet with Anti-Sparkle Canvas Glass, 99% sRGB, PenTech 4.0, 16384 Pen Pressure, Dual Dial for PC, Mac, Android, Black', 'Xencelabs Pen Display 24, Drawing Tablet with 4K Screen Monitor, 99% Adobe RGB Graphic Drawing Display with 40 Customizable Quick Keys, 2 Battery-Free Pens, 8192 Levels Pressure for Win/Mac/Linux', 'HUION KAMVAS Pro 16 Drawing Tablet with Screen, 15.6 inch Pen Display Anti-Glare Glass 6 Shortcut Keys Adjustable Stand, Graphics Tablet for Drawing, Writing, Design, Work with Windows, Mac and Linux', 'HUION H420X OSU Tablet Graphic Drawing with 8192 Levels Pressure Battery-Free Stylus, 4.17x2.6 inch Digital Tablet Compatible with Window/Mac/Linux/Android for OSU Game, Online Teaching', 'HUION 420 OSU Tablet Drawing Tablet, Graphics Tablet with Digital Stylus, 4 x 2.23 inches Pen Tablet for Digital Art, Design & Animation, Work with Mac, PC', 'UGEE Graphics Drawing Tablet, M708 V2 Upgrade Support Android Device,10x6 Inch Ultra Thin Large Digital Graphic Tablets for PC, Pad with 8 Hot Keys 8192 Level Battery-Free Stylus for Creation Sketch']\n",
      "126\n",
      "22\n"
     ]
    }
   ],
   "source": [
    "product = soup.find_all('h2', class_ = 'a-size-medium a-spacing-none a-color-base a-text-normal')\n",
    "products = []\n",
    "for p in product:\n",
    "    # print(p.text.strip())\n",
    "    products.append(p.text.strip())\n",
    "    print(products)\n",
    "# print(len(products))\n",
    "    \n",
    "price = soup.find_all('span', class_ = 'a-declarative')\n",
    "prices = []\n",
    "for i,  p in enumerate(price):\n",
    "    prices.append(p.text.strip())\n",
    "    # print(f'{i}: {p.text.strip()}')\n",
    "\n",
    "#match products with prices\n",
    "# product_list = []\n",
    "# for i in range(len(products)):\n",
    "#     for j in range(len(prices)):\n",
    "#         product_list.append((prices[j], products[i]))\n",
    "#         print(product_list)\n",
    "\n",
    "# print(prices)\n",
    "# print(products)\n",
    "print(len(prices))\n",
    "print(len(products))"
   ]
  },
  {
   "cell_type": "code",
   "execution_count": 5,
   "id": "c0068284",
   "metadata": {},
   "outputs": [
    {
     "name": "stdout",
     "output_type": "stream",
     "text": [
      "0: List: $59.95\n",
      "1: $59.95\n",
      "2: $42.49\n",
      "3: Typical: $46.99\n",
      "4: $46.99\n"
     ]
    }
   ],
   "source": [
    "px = soup.find_all('span', class_=\"a-offscreen\")[10:15]\n",
    "for _ ,pxs in enumerate(px):\n",
    "    print(f'{_}: {pxs.text.strip()}')"
   ]
  },
  {
   "cell_type": "code",
   "execution_count": 28,
   "id": "868a75e5",
   "metadata": {},
   "outputs": [
    {
     "name": "stdout",
     "output_type": "stream",
     "text": [
      "ResultsCheck each product page for other buying options.\n",
      "Best Sellerin Computer Graphics TabletsSponsoredSponsoredYou’re seeing this ad based on the product’s relevance to your search query.Leave ad feedbackWacom Intuos Small Bluetooth Graphics Drawing Tablet, Portable for Teachers, Students and Creators, 4 Customizable ExpressKeys, Compatible with Chromebook Mac OS Android and Windows - Pistachio4.4 out of 5 stars11,8173K+ bought in past monthPrice, product page$39.95$39.95List: $59.95List:$59.95$59.95DeliveryTue, Sep 9Ships to ItalyAdd to cart\n",
      "SponsoredSponsoredYou’re seeing this ad based on the product’s relevance to your search query.Leave ad feedbackHUION Inspiroy 2 Medium Drawing Tablet with Scroll Wheel 8 Customized Keys Battery-Free Stylus 60° Tilt Support for Digital Art, Design, Sketch, 9x5inch Graphics Tablet, Black4.5 out of 5 stars815100+ bought in past monthPrice, product page$63.99$63.99List: $79.99List:$79.99$79.99DeliveryTue, Sep 9Ships to ItalyAdd to cart\n",
      "Overall PickAmazon's Choice: Overall PickProducts highlighted as 'Overall Pick' are:Rated 4+ starsPurchased oftenReturned infrequentlyHUION Inspiroy H640P Drawing Tablet, 6x4 inch Digital Art with Battery-Free Stylus, 8192 Pen Pressure, 6 Hot Keys, Graphics Tablet for Drawing, Writing, Design, Teaching, Work with Mac, PC & Mobile4.4 out of 5 stars13,1521K+ bought in past monthPrice, product page$27.99$27.99List Price: $39.99List Price:$39.99$39.99DeliveryTue, Sep 9Ships to ItalySee options\n",
      "Best Sellerin Computer Graphics TabletsWacom Intuos Small Bluetooth Graphics Drawing Tablet, Portable for Teachers, Students and Creators, 4 Customizable ExpressKeys, Compatible with Chromebook Mac OS Android and Windows - Pistachio4.4 out of 5 stars11,8173K+ bought in past monthPrice, product page$39.95$39.95List: $59.95List:$59.95$59.95DeliveryTue, Sep 9Ships to ItalyAdd to cartMore Buying Choices$38.50(11 used & new offers)\n",
      "Graphics Drawing Tablet, UGEE M708 10 x 6 inch Large Drawing Tablet with 8 Hot Keys, Passive Stylus of 8192 Levels Pressure, UGEE M708 Graphics Tablet for Paint, Design, Art Creation Sketch Black4.4 out of 5 stars5,848500+ bought in past monthPrice, product page$42.49$42.49Typical: $46.99Typical:$46.99$46.99DeliveryTue, Sep 9Ships to ItalyAdd to cartMore Buying Choices$41.64(2 used & new offers)\n",
      "From frequently shopped brandsSponsored| Based on number of views and purchasesWacom Intuos Medium Bluetooth Graphics Drawing Tablet, Portable for Teachers, Students and Creators, 4 Customizable ExpressKeys, Compatible with Chromebook Mac OS Android and Windows - Pistachio4.4 out of 5 stars11,817500+ bought in past monthPrice, product page$89.95$89.95List: $99.95List:$99.95$99.95HUION Inspiroy 2 Medium Drawing Tablet with Scroll Wheel 8 Customized Keys Battery-Free Stylus 60° Tilt Support for Digital Art, Design, Sketch, 9x5inch Graphics Tablet, Black4.5 out of 5 stars815100+ bought in past monthLimited time dealPrice, product page$63.99$63.99List: $79.99List:$79.99$79.99GAOMON PD1161 Drawing Tablet with Screen, Digital Art Tablet with Battery-Free Stylus, Tilt, 8 Shortcut Keys for Paint, Design, Illustration, Editing, 11.6-inch Graphics Tablet for Mac, Windows PC4.3 out of 5 stars6,633100+ bought in past monthPrice, product page$169.99$169.99List: $199.99List:$199.99$199.99HUION Kamvas 13 (Gen 3) Drawing Tablet with Screen,13.3\" Full-Laminated Art Tablet with Anti-Sparkle Canvas Glass, 99% sRGB, PenTech 4.0, 16384 Pen Pressure, Dual Dial for PC, Mac, Android, Black4.5 out of 5 stars260400+ bought in past monthPrice, product page$269.00$269.00\n",
      "Debug info copied.Group 5Created with Sketch.SponsoredHUION Kamvas 22 Plus QLED Drawing Tablet with Full-Laminated Screen USB-C Connection 140% sRGB Tilt, 21.5 inch Graphics Art Tablet for Artist & Designer, Work with Mac, Windows, Linux & Android Black4.3 out of 5 stars1,05050+ bought in past monthLimited time dealPrice, product page$438.99$438.99List: $549.00List:$549.00$549.00DeliveryMon, Sep 1\n",
      "More results\n",
      "HUION Inspiroy H1060P Graphics Drawing Tablet with 8192 Pressure Sensitivity Battery-Free Stylus and 12 Customized Hot Keys, 10 x 6.25 inches Digital Art Tablet for Mac, Windows PC and Android4.4 out of 5 stars5,4081K+ bought in past monthPrice, product page$59.99$59.99List: $66.99List:$66.99$66.9925% off coupon appliedSave 25%with couponDeliveryTue, Sep 9Ships to ItalyAdd to cart\n",
      "More results\n",
      "SponsoredSponsoredYou’re seeing this ad based on the product’s relevance to your search query.Leave ad feedbackVEIKK VK1200 V2 Drawing Tablet with Screen,11.6-inch Full-Laminated Graphic Drawing Monitor,2 Battery-Free Pens with Tilt Function,6 Customizable Keys,Anti-Glare Glass(Must be Connected to PC to Work)4.3 out of 5 stars1,146100+ bought in past monthPrice, product page$146.99$146.99List: $179.99List:$179.99$179.99DeliveryTue, Sep 9Ships to ItalyAdd to cart\n",
      "GAOMON PD1161 Drawing Tablet with Screen, Digital Art Tablet with Battery-Free Stylus, Tilt, 8 Shortcut Keys for Paint, Design, Illustration, Editing, 11.6-inch Graphics Tablet for Mac, Windows PC4.3 out of 5 stars6,633100+ bought in past monthPrice, product page$169.99$169.99List: $199.99List:$199.99$199.99DeliveryTue, Sep 9Ships to ItalyAdd to cart\n",
      "Ugee Drawing Tablet 6.5x4 Inches Computer Graphics Tablets with 10 Hot Keys，Digital Tablet Battery-Free Stylus 8192 Pressure Sensitivity 60°Tilt Function Drawing Pad for PC,Mac,Windows,Android-Purple4.4 out of 5 stars1,161100+ bought in past monthPrice, product page$25.99$25.99List: $36.99List:$36.99$36.99DeliveryTue, Sep 9Ships to ItalyAdd to cartMore Buying Choices$24.95(2 used & new offers)\n",
      "GAOMON S620 Drawing Tablet 6.5 x 4 Inch Graphics Tablet with 8192 Passive Pen 4 Customizable ExpressKeys for Digital Art, Painting, OSU Playing, Compatible with Windows PC, Mac4.4 out of 5 stars16,585500+ bought in past monthPrice, product page$28.89$28.89Typical: $33.99Typical:$33.99$33.99DeliveryTue, Sep 9Ships to ItalyAdd to cart\n",
      "XOPPOX Graphics Drawing Tablet 10 x 6 Inch Large Active Area with 8192 Levels Battery-Free Pen and 12 Hot Keys, Compatible with PC/Mac/Android OS for Painting, Design & Online Teaching Black4.1 out of 5 stars1,377100+ bought in past monthPrice, product page$37.99$37.99List Price: $54.99List Price:$54.99$54.99Buy any 1 for$35.99DeliveryTue, Sep 9Ships to ItalySee options\n",
      "SponsoredSponsoredYou’re seeing this ad based on the product’s relevance to your search query.Leave ad feedbackHUION Kamvas 22 Plus QLED Drawing Tablet with Full-Laminated Screen USB-C Connection 140% sRGB Tilt, 21.5 inch Graphics Art Tablet for Artist & Designer, Work with Mac, Windows, Linux & Android Black4.3 out of 5 stars1,05050+ bought in past monthPrice, product page$438.99$438.99List: $549.00List:$549.00$549.00DeliveryMon, Sep 1Ships to ItalyAdd to cart\n",
      "HUION Drawing Tablet HS610 Graphic Tablet with Battery-Free Stylus 8192 Pen Pressure Tilt Function, 10x6.25 Inches Digital Art for Animation & Design, Compatible with Windows/Mac/Android4.5 out of 5 stars9,210200+ bought in past monthPrice, product page$49.99$49.99List: $59.99List:$59.99$59.99DeliveryTue, Sep 9Ships to ItalyAdd to cartMore Buying Choices$47.99(3 used & new offers)\n",
      "Graphic Drawing Tablet, ienRon 10x6.25 Inch,Digital Graphics Tablets for PC and Computer/Pad- 8192 Pressure Battery-Free Pen, 12 Hot Keys, Compatible Windows/Android, Includes Stand,Good Gifts,Black4.3 out of 5 stars48Price, product page$38.68$38.68List: $46.99List:$46.99$46.99DeliveryTue, Sep 9Ships to ItalyAdd to cart\n",
      "VEIKK A30 V2 Drawing Tablet 10x6 Inch Graphics Tablet with 8192 Pressure Sensitivity Battery-Free Pen and Touch Pad, 4 Hot Keys Drawing Pad for Computer, Supports Mac Windows Android Linux4.3 out of 5 stars4,510100+ bought in past monthPrice, product page$39.99$39.99DeliveryTue, Sep 9Ships to ItalyAdd to cart\n",
      "HUION Kamvas 13 (Gen 3) Drawing Tablet with Screen,13.3\" Full-Laminated Art Tablet with Anti-Sparkle Canvas Glass, 99% sRGB, PenTech 4.0, 16384 Pen Pressure, Dual Dial for PC, Mac, Android, Black4.5 out of 5 stars260400+ bought in past monthPrice, product page$269.00$269.00DeliveryMon, Sep 1Ships to ItalyAdd to cart\n",
      "SponsoredSponsoredYou’re seeing this ad based on the product’s relevance to your search query.Leave ad feedbackXencelabs Pen Display 24, Drawing Tablet with 4K Screen Monitor, 99% Adobe RGB Graphic Drawing Display with 40 Customizable Quick Keys, 2 Battery-Free Pens, 8192 Levels Pressure for Win/Mac/Linux4.3 out of 5 stars41Price, product page$1,749.00$1,749.00List: $1,899.00List:$1,899.00$1,899.00DeliveryThu, Sep 4Ships to ItalyAdd to cart\n",
      "HUION KAMVAS Pro 16 Drawing Tablet with Screen, 15.6 inch Pen Display Anti-Glare Glass 6 Shortcut Keys Adjustable Stand, Graphics Tablet for Drawing, Writing, Design, Work with Windows, Mac and Linux4.5 out of 5 stars4,798300+ bought in past monthPrice, product page$299.99$299.99List: $399.99List:$399.99$399.99DeliveryMon, Sep 1Ships to ItalyAdd to cart\n",
      "HUION H420X OSU Tablet Graphic Drawing with 8192 Levels Pressure Battery-Free Stylus, 4.17x2.6 inch Digital Tablet Compatible with Window/Mac/Linux/Android for OSU Game, Online Teaching4.2 out of 5 stars1,202200+ bought in past monthPrice, product page$19.99$19.99DeliveryTue, Sep 9Ships to ItalyAdd to cartMore Buying Choices$19.79(2 used & new offers)\n",
      "HUION 420 OSU Tablet Drawing Tablet, Graphics Tablet with Digital Stylus, 4 x 2.23 inches Pen Tablet for Digital Art, Design & Animation, Work with Mac, PC4.0 out of 5 stars6,836100+ bought in past monthPrice, product page$16.99$16.99DeliveryTue, Sep 9Ships to ItalyAdd to cart\n",
      "UGEE Graphics Drawing Tablet, M708 V2 Upgrade Support Android Device,10x6 Inch Ultra Thin Large Digital Graphic Tablets for PC, Pad with 8 Hot Keys 8192 Level Battery-Free Stylus for Creation Sketch4.3 out of 5 stars1,47450+ bought in past monthPrice, product page$42.49$42.49List: $49.99List:$49.99$49.99DeliveryTue, Sep 9Ships to ItalyAdd to cart\n",
      "Picks from Amazon InfluencersSponsored| From Amazon Influencer storefrontsBest Sellerin Computer Graphics TabletsWacom Intuos Small Bluetooth Graphics Drawing Tablet, Portable for Teachers, Students and Creators, 4 Customizable ExpressKeys, Compatible with Chromebook Mac OS Android and Windows - Pistachio4.4 out of 5 stars11,8173K+ bought in past monthPrice, product page$39.95$39.95List: $59.95List:$59.95$59.95Xencelabs Pen Display 24, Drawing Tablet with 4K Screen Monitor, 99% Adobe RGB Graphic Drawing Display with 40 Customizable Quick Keys, 2 Battery-Free Pens, 8192 Levels Pressure for Win/Mac/Linux4.3 out of 5 stars41Price, product page$1,749.00$1,749.00List: $1,899.00List:$1,899.00$1,899.00HUION Kamvas 22 Plus QLED Drawing Tablet with Full-Laminated Screen USB-C Connection 140% sRGB Tilt, 21.5 inch Graphics Art Tablet for Artist & Designer, Work with Mac, Windows, Linux & Android Black4.3 out of 5 stars1,05050+ bought in past monthLimited time dealPrice, product page$438.99$438.99List: $549.00List:$549.00$549.00GAOMON PD1161 Drawing Tablet 11.6 Inch IPS Tilt Support Pen Display - Drawing Pad with 8 Shortcuts and 8192 Levels Battery-Free AP50 Stylus Black4.3 out of 5 stars1,699Price, product page$169.99$169.99List: $229.99List:$229.99$229.99GAOMON PD1320 13.3 Inch Full-Laminated Pen Display 120% sRGB Graphics Drawing Tablet with Tilt Support and Adjustable Leather Stand - for Windows Mac Android OS4.3 out of 5 stars6,633Price, product page$213.99$213.99Typical: $239.99Typical:$239.99$239.99\n",
      "Previous123...20Next\n",
      "Brands related to your searchSponsoredShop Huion Gifts for Artist.Powerful Mini PC for Office & HomeYour Perfect Surfing Companion!\n",
      "Need help?Visit the help sectionorcontact us\n",
      "\n",
      "\n",
      "\n"
     ]
    }
   ],
   "source": [
    "product_divs = soup.find_all('div', attrs={'data-asin': True, 'data-index': True}) \n",
    "for pro in product_divs:\n",
    "    print(pro.get_text(strip=True))\n",
    "\n"
   ]
  },
  {
   "cell_type": "code",
   "execution_count": null,
   "id": "7fb535ac",
   "metadata": {},
   "outputs": [],
   "source": []
  }
 ],
 "metadata": {
  "kernelspec": {
   "display_name": "base",
   "language": "python",
   "name": "python3"
  },
  "language_info": {
   "codemirror_mode": {
    "name": "ipython",
    "version": 3
   },
   "file_extension": ".py",
   "mimetype": "text/x-python",
   "name": "python",
   "nbconvert_exporter": "python",
   "pygments_lexer": "ipython3",
   "version": "3.11.7"
  }
 },
 "nbformat": 4,
 "nbformat_minor": 5
}
